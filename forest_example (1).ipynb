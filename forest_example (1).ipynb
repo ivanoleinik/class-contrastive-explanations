{
  "cells": [
    {
      "cell_type": "code",
      "source": [
        "!pip install pytorch-tabnet wget"
      ],
      "metadata": {
        "colab": {
          "base_uri": "https://localhost:8080/"
        },
        "id": "X--s5yKPVkce",
        "outputId": "dcb4bbc7-1282-4b01-bef7-f4bc56d29730"
      },
      "execution_count": 1,
      "outputs": [
        {
          "output_type": "stream",
          "name": "stdout",
          "text": [
            "Collecting pytorch-tabnet\n",
            "  Downloading pytorch_tabnet-4.1.0-py3-none-any.whl (44 kB)\n",
            "\u001b[2K     \u001b[90m━━━━━━━━━━━━━━━━━━━━━━━━━━━━━━━━━━━━━━━━\u001b[0m \u001b[32m44.5/44.5 kB\u001b[0m \u001b[31m787.6 kB/s\u001b[0m eta \u001b[36m0:00:00\u001b[0m\n",
            "\u001b[?25hCollecting wget\n",
            "  Downloading wget-3.2.zip (10 kB)\n",
            "  Preparing metadata (setup.py) ... \u001b[?25l\u001b[?25hdone\n",
            "Requirement already satisfied: numpy>=1.17 in /usr/local/lib/python3.10/dist-packages (from pytorch-tabnet) (1.23.5)\n",
            "Requirement already satisfied: scikit_learn>0.21 in /usr/local/lib/python3.10/dist-packages (from pytorch-tabnet) (1.2.2)\n",
            "Requirement already satisfied: scipy>1.4 in /usr/local/lib/python3.10/dist-packages (from pytorch-tabnet) (1.11.4)\n",
            "Requirement already satisfied: torch>=1.3 in /usr/local/lib/python3.10/dist-packages (from pytorch-tabnet) (2.1.0+cu121)\n",
            "Requirement already satisfied: tqdm>=4.36 in /usr/local/lib/python3.10/dist-packages (from pytorch-tabnet) (4.66.1)\n",
            "Requirement already satisfied: joblib>=1.1.1 in /usr/local/lib/python3.10/dist-packages (from scikit_learn>0.21->pytorch-tabnet) (1.3.2)\n",
            "Requirement already satisfied: threadpoolctl>=2.0.0 in /usr/local/lib/python3.10/dist-packages (from scikit_learn>0.21->pytorch-tabnet) (3.2.0)\n",
            "Requirement already satisfied: filelock in /usr/local/lib/python3.10/dist-packages (from torch>=1.3->pytorch-tabnet) (3.13.1)\n",
            "Requirement already satisfied: typing-extensions in /usr/local/lib/python3.10/dist-packages (from torch>=1.3->pytorch-tabnet) (4.5.0)\n",
            "Requirement already satisfied: sympy in /usr/local/lib/python3.10/dist-packages (from torch>=1.3->pytorch-tabnet) (1.12)\n",
            "Requirement already satisfied: networkx in /usr/local/lib/python3.10/dist-packages (from torch>=1.3->pytorch-tabnet) (3.2.1)\n",
            "Requirement already satisfied: jinja2 in /usr/local/lib/python3.10/dist-packages (from torch>=1.3->pytorch-tabnet) (3.1.2)\n",
            "Requirement already satisfied: fsspec in /usr/local/lib/python3.10/dist-packages (from torch>=1.3->pytorch-tabnet) (2023.6.0)\n",
            "Requirement already satisfied: triton==2.1.0 in /usr/local/lib/python3.10/dist-packages (from torch>=1.3->pytorch-tabnet) (2.1.0)\n",
            "Requirement already satisfied: MarkupSafe>=2.0 in /usr/local/lib/python3.10/dist-packages (from jinja2->torch>=1.3->pytorch-tabnet) (2.1.3)\n",
            "Requirement already satisfied: mpmath>=0.19 in /usr/local/lib/python3.10/dist-packages (from sympy->torch>=1.3->pytorch-tabnet) (1.3.0)\n",
            "Building wheels for collected packages: wget\n",
            "  Building wheel for wget (setup.py) ... \u001b[?25l\u001b[?25hdone\n",
            "  Created wheel for wget: filename=wget-3.2-py3-none-any.whl size=9655 sha256=99eb5f871ba913b26cb1affa4f99e5bfb56d80a9d4a492ac26761c3c1fdb23e8\n",
            "  Stored in directory: /root/.cache/pip/wheels/8b/f1/7f/5c94f0a7a505ca1c81cd1d9208ae2064675d97582078e6c769\n",
            "Successfully built wget\n",
            "Installing collected packages: wget, pytorch-tabnet\n",
            "Successfully installed pytorch-tabnet-4.1.0 wget-3.2\n"
          ]
        }
      ]
    },
    {
      "cell_type": "code",
      "execution_count": 2,
      "metadata": {
        "id": "m0eifqwXVhKF"
      },
      "outputs": [],
      "source": [
        "from pytorch_tabnet.tab_model import TabNetClassifier\n",
        "\n",
        "import torch\n",
        "from sklearn.preprocessing import LabelEncoder\n",
        "from sklearn.metrics import accuracy_score\n",
        "from sklearn.model_selection import train_test_split\n",
        "import pandas as pd\n",
        "import numpy as np\n",
        "np.random.seed(0)\n",
        "\n",
        "\n",
        "import os\n",
        "import wget\n",
        "from pathlib import Path\n",
        "import shutil\n",
        "import gzip\n",
        "\n",
        "from matplotlib import pyplot as plt\n",
        "%matplotlib inline"
      ]
    },
    {
      "cell_type": "markdown",
      "metadata": {
        "id": "Xc-SKVGgVhKH"
      },
      "source": [
        "# Download ForestCoverType dataset"
      ]
    },
    {
      "cell_type": "code",
      "execution_count": 3,
      "metadata": {
        "id": "3jwOS7V1VhKJ"
      },
      "outputs": [],
      "source": [
        "url = \"https://archive.ics.uci.edu/ml/machine-learning-databases/covtype/covtype.data.gz\"\n",
        "dataset_name = 'forest-cover-type'\n",
        "tmp_out = Path('./data/'+dataset_name+'.gz')\n",
        "out = Path(os.getcwd()+'/data/'+dataset_name+'.csv')"
      ]
    },
    {
      "cell_type": "code",
      "execution_count": 4,
      "metadata": {
        "colab": {
          "base_uri": "https://localhost:8080/"
        },
        "id": "n9z56MiiVhKJ",
        "outputId": "94d6fe78-9b2b-423e-c654-b94e9d4da7e2"
      },
      "outputs": [
        {
          "output_type": "stream",
          "name": "stdout",
          "text": [
            "Downloading file...\n"
          ]
        }
      ],
      "source": [
        "out.parent.mkdir(parents=True, exist_ok=True)\n",
        "if out.exists():\n",
        "    print(\"File already exists.\")\n",
        "else:\n",
        "    print(\"Downloading file...\")\n",
        "    wget.download(url, tmp_out.as_posix())\n",
        "    with gzip.open(tmp_out, 'rb') as f_in:\n",
        "        with open(out, 'wb') as f_out:\n",
        "            shutil.copyfileobj(f_in, f_out)\n",
        "\n"
      ]
    },
    {
      "cell_type": "markdown",
      "metadata": {
        "id": "0oI_eVrHVhKK"
      },
      "source": [
        "# Load data and split\n",
        "Same split as in original paper"
      ]
    },
    {
      "cell_type": "code",
      "execution_count": 5,
      "metadata": {
        "id": "zYWRJ7u9VhKK"
      },
      "outputs": [],
      "source": [
        "target = \"Covertype\"\n",
        "\n",
        "bool_columns = [\n",
        "    \"Wilderness_Area1\", \"Wilderness_Area2\", \"Wilderness_Area3\",\n",
        "    \"Wilderness_Area4\", \"Soil_Type1\", \"Soil_Type2\", \"Soil_Type3\", \"Soil_Type4\",\n",
        "    \"Soil_Type5\", \"Soil_Type6\", \"Soil_Type7\", \"Soil_Type8\", \"Soil_Type9\",\n",
        "    \"Soil_Type10\", \"Soil_Type11\", \"Soil_Type12\", \"Soil_Type13\", \"Soil_Type14\",\n",
        "    \"Soil_Type15\", \"Soil_Type16\", \"Soil_Type17\", \"Soil_Type18\", \"Soil_Type19\",\n",
        "    \"Soil_Type20\", \"Soil_Type21\", \"Soil_Type22\", \"Soil_Type23\", \"Soil_Type24\",\n",
        "    \"Soil_Type25\", \"Soil_Type26\", \"Soil_Type27\", \"Soil_Type28\", \"Soil_Type29\",\n",
        "    \"Soil_Type30\", \"Soil_Type31\", \"Soil_Type32\", \"Soil_Type33\", \"Soil_Type34\",\n",
        "    \"Soil_Type35\", \"Soil_Type36\", \"Soil_Type37\", \"Soil_Type38\", \"Soil_Type39\",\n",
        "    \"Soil_Type40\"\n",
        "]\n",
        "\n",
        "int_columns = [\n",
        "    \"Elevation\", \"Aspect\", \"Slope\", \"Horizontal_Distance_To_Hydrology\",\n",
        "    \"Vertical_Distance_To_Hydrology\", \"Horizontal_Distance_To_Roadways\",\n",
        "    \"Hillshade_9am\", \"Hillshade_Noon\", \"Hillshade_3pm\",\n",
        "    \"Horizontal_Distance_To_Fire_Points\"\n",
        "]\n",
        "\n",
        "feature_columns = (\n",
        "    int_columns + bool_columns + [target])\n"
      ]
    },
    {
      "cell_type": "code",
      "execution_count": 6,
      "metadata": {
        "id": "DSYkXQ04VhKK"
      },
      "outputs": [],
      "source": [
        "train = pd.read_csv(out, header=None, names=feature_columns)\n",
        "\n",
        "n_total = len(train)\n",
        "\n",
        "# Train, val and test split follows\n",
        "# Rory Mitchell, Andrey Adinets, Thejaswi Rao, and Eibe Frank.\n",
        "# Xgboost: Scalable GPU accelerated learning. arXiv:1806.11248, 2018.\n",
        "\n",
        "train_val_indices, test_indices = train_test_split(\n",
        "    range(n_total), test_size=0.2, random_state=0)\n",
        "train_indices, valid_indices = train_test_split(\n",
        "    train_val_indices, test_size=0.2 / 0.6, random_state=0)\n"
      ]
    },
    {
      "cell_type": "markdown",
      "metadata": {
        "id": "3MOGOsw9VhKK"
      },
      "source": [
        "# Simple preprocessing\n",
        "\n",
        "Label encode categorical features and fill empty cells."
      ]
    },
    {
      "cell_type": "code",
      "execution_count": 7,
      "metadata": {
        "id": "zb8x6fwtVhKL"
      },
      "outputs": [],
      "source": [
        "categorical_columns = []\n",
        "categorical_dims =  {}\n",
        "for col in train.columns[train.dtypes == object]:\n",
        "    print(col, train[col].nunique())\n",
        "    l_enc = LabelEncoder()\n",
        "    train[col] = train[col].fillna(\"VV_likely\")\n",
        "    train[col] = l_enc.fit_transform(train[col].values)\n",
        "    categorical_columns.append(col)\n",
        "    categorical_dims[col] = len(l_enc.classes_)\n",
        "\n",
        "for col in train.columns[train.dtypes == 'float64']:\n",
        "    train.fillna(train.loc[train_indices, col].mean(), inplace=True)"
      ]
    },
    {
      "cell_type": "markdown",
      "metadata": {
        "id": "yA322DtGVhKL"
      },
      "source": [
        "# Define categorical features for categorical embeddings"
      ]
    },
    {
      "cell_type": "code",
      "execution_count": 8,
      "metadata": {
        "id": "gYZl2Rh_VhKL"
      },
      "outputs": [],
      "source": [
        "# This is a generic pipeline but actually no categorical features are available for this dataset\n",
        "\n",
        "unused_feat = []\n",
        "\n",
        "features = [ col for col in train.columns if col not in unused_feat+[target]]\n",
        "\n",
        "cat_idxs = [ i for i, f in enumerate(features) if f in categorical_columns]\n",
        "\n",
        "cat_dims = [ categorical_dims[f] for i, f in enumerate(features) if f in categorical_columns]\n"
      ]
    },
    {
      "cell_type": "markdown",
      "metadata": {
        "id": "sK-T--k6VhKL"
      },
      "source": [
        "# Network parameters"
      ]
    },
    {
      "cell_type": "code",
      "execution_count": 9,
      "metadata": {
        "colab": {
          "base_uri": "https://localhost:8080/"
        },
        "id": "VkILD7bNVhKM",
        "outputId": "7f64e6da-021f-4d6f-b82b-796c5f44b65b"
      },
      "outputs": [
        {
          "output_type": "stream",
          "name": "stderr",
          "text": [
            "/usr/local/lib/python3.10/dist-packages/pytorch_tabnet/abstract_model.py:82: UserWarning: Device used : cuda\n",
            "  warnings.warn(f\"Device used : {self.device}\")\n"
          ]
        }
      ],
      "source": [
        "clf = TabNetClassifier(\n",
        "    n_d=64, n_a=64, n_steps=5,\n",
        "    gamma=1.5, n_independent=2, n_shared=2,\n",
        "    cat_idxs=cat_idxs,\n",
        "    cat_dims=cat_dims,\n",
        "    cat_emb_dim=1,\n",
        "    lambda_sparse=1e-4, momentum=0.3, clip_value=2.,\n",
        "    optimizer_fn=torch.optim.Adam,\n",
        "    optimizer_params=dict(lr=2e-2),\n",
        "    scheduler_params = {\"gamma\": 0.95,\n",
        "                     \"step_size\": 20},\n",
        "    scheduler_fn=torch.optim.lr_scheduler.StepLR, epsilon=1e-15\n",
        ")"
      ]
    },
    {
      "cell_type": "markdown",
      "metadata": {
        "id": "5S4dushUVhKM"
      },
      "source": [
        "# Training"
      ]
    },
    {
      "cell_type": "code",
      "execution_count": 10,
      "metadata": {
        "id": "UBK5TDhiVhKM"
      },
      "outputs": [],
      "source": [
        "if os.getenv(\"CI\", False):\n",
        "# Take only a subsample to run CI\n",
        "    X_train = train[features].values[train_indices][:1000,:]\n",
        "    y_train = train[target].values[train_indices][:1000]\n",
        "else:\n",
        "    X_train = train[features].values[train_indices]\n",
        "    y_train = train[target].values[train_indices]\n",
        "\n",
        "X_valid = train[features].values[valid_indices]\n",
        "y_valid = train[target].values[valid_indices]\n",
        "\n",
        "X_test = train[features].values[test_indices]\n",
        "y_test = train[target].values[test_indices]"
      ]
    },
    {
      "cell_type": "code",
      "execution_count": 11,
      "metadata": {
        "id": "cV8eHsdYVhKM"
      },
      "outputs": [],
      "source": [
        "max_epochs = 100 if not os.getenv(\"CI\", False) else 2"
      ]
    },
    {
      "cell_type": "code",
      "execution_count": 12,
      "metadata": {
        "scrolled": true,
        "id": "CSi7vf-PVhKM"
      },
      "outputs": [],
      "source": [
        "from pytorch_tabnet.augmentations import ClassificationSMOTE\n",
        "aug = ClassificationSMOTE(p=0.2)\n",
        "\n",
        "# clf.fit(\n",
        "#     X_train=X_train, y_train=y_train,\n",
        "#     eval_set=[(X_train, y_train), (X_valid, y_valid)],\n",
        "#     eval_name=['train', 'valid'],\n",
        "#     max_epochs=max_epochs, patience=100,\n",
        "#     batch_size=16384, virtual_batch_size=256,\n",
        "#     augmentations=aug\n",
        "# )"
      ]
    },
    {
      "cell_type": "code",
      "execution_count": 13,
      "metadata": {
        "id": "wc7xA2zTVhKN"
      },
      "outputs": [],
      "source": [
        "# # plot losses\n",
        "# plt.plot(clf.history['loss'])"
      ]
    },
    {
      "cell_type": "code",
      "execution_count": 14,
      "metadata": {
        "id": "xuUxON4hVhKN"
      },
      "outputs": [],
      "source": [
        "# # plot accuracy\n",
        "# plt.plot(clf.history['train_accuracy'])\n",
        "# plt.plot(clf.history['valid_accuracy'])"
      ]
    },
    {
      "cell_type": "markdown",
      "metadata": {
        "id": "3LdNVXufVhKN"
      },
      "source": [
        "### Predictions\n"
      ]
    },
    {
      "cell_type": "code",
      "execution_count": 15,
      "metadata": {
        "id": "t8zy04cgVhKN"
      },
      "outputs": [],
      "source": [
        "# # To get final results you may need to use a mapping for classes\n",
        "# # as you are allowed to use targets like [\"yes\", \"no\", \"maybe\", \"I don't know\"]\n",
        "\n",
        "# preds_mapper = { idx : class_name for idx, class_name in enumerate(clf.classes_)}\n",
        "\n",
        "# preds = clf.predict_proba(X_test)\n",
        "\n",
        "# y_pred = np.vectorize(preds_mapper.get)(np.argmax(preds, axis=1))\n",
        "\n",
        "# test_acc = accuracy_score(y_pred=y_pred, y_true=y_test)\n",
        "\n",
        "# print(f\"BEST VALID SCORE FOR {dataset_name} : {clf.best_cost}\")\n",
        "# print(f\"FINAL TEST SCORE FOR {dataset_name} : {test_acc}\")"
      ]
    },
    {
      "cell_type": "code",
      "execution_count": 17,
      "metadata": {
        "id": "2OGlDSkJVhKN"
      },
      "outputs": [],
      "source": [
        "# # or you can simply use the predict method\n",
        "\n",
        "# y_pred = clf.predict(X_test)\n",
        "# test_acc = accuracy_score(y_pred=y_pred, y_true=y_test)\n",
        "# print(f\"FINAL TEST SCORE FOR {dataset_name} : {test_acc}\")"
      ]
    },
    {
      "cell_type": "markdown",
      "metadata": {
        "id": "5DMAVLHKVhKN"
      },
      "source": [
        "# Save and load Model"
      ]
    },
    {
      "cell_type": "code",
      "source": [
        "from google.colab import drive\n",
        "drive.mount('/content/drive')"
      ],
      "metadata": {
        "colab": {
          "base_uri": "https://localhost:8080/"
        },
        "id": "LJfoagq0cXiH",
        "outputId": "0cf8f791-4fc7-4f8c-bbaa-b678b489087f"
      },
      "execution_count": 18,
      "outputs": [
        {
          "output_type": "stream",
          "name": "stdout",
          "text": [
            "Mounted at /content/drive\n"
          ]
        }
      ]
    },
    {
      "cell_type": "code",
      "execution_count": 19,
      "metadata": {
        "id": "1nzVIhteVhKN"
      },
      "outputs": [],
      "source": [
        "# # save state dict\n",
        "# saved_filename = clf.save_model('/content/drive/My Drive/test_model')\n"
      ]
    },
    {
      "cell_type": "code",
      "execution_count": 20,
      "metadata": {
        "colab": {
          "base_uri": "https://localhost:8080/"
        },
        "id": "KbftOIpSVhKO",
        "outputId": "721e51cd-5cff-4528-af7f-09c6afd046c4"
      },
      "outputs": [
        {
          "output_type": "stream",
          "name": "stderr",
          "text": [
            "/usr/local/lib/python3.10/dist-packages/pytorch_tabnet/abstract_model.py:82: UserWarning: Device used : cuda\n",
            "  warnings.warn(f\"Device used : {self.device}\")\n"
          ]
        }
      ],
      "source": [
        "# define new model and load save parameters\n",
        "loaded_clf = TabNetClassifier()\n",
        "loaded_clf.load_model('/content/drive/My Drive/test_model.zip')"
      ]
    },
    {
      "cell_type": "code",
      "execution_count": 21,
      "metadata": {
        "id": "J95OWOpzVhKO"
      },
      "outputs": [],
      "source": [
        "loaded_preds = loaded_clf.predict_proba(X_test)\n",
        "# loaded_y_pred = np.vectorize(preds_mapper.get)(np.argmax(loaded_preds, axis=1))\n",
        "\n",
        "# loaded_test_acc = accuracy_score(y_pred=loaded_y_pred, y_true=y_test)\n",
        "\n",
        "# print(f\"FINAL TEST SCORE FOR {dataset_name} : {loaded_test_acc}\")"
      ]
    },
    {
      "cell_type": "code",
      "execution_count": 22,
      "metadata": {
        "id": "EahafO89VhKO"
      },
      "outputs": [],
      "source": [
        "# assert(test_acc == loaded_test_acc)"
      ]
    },
    {
      "cell_type": "code",
      "source": [
        "median_vals = torch.Tensor(np.median(X_train, 0)).to(loaded_clf.device)\n",
        "median_vals"
      ],
      "metadata": {
        "colab": {
          "base_uri": "https://localhost:8080/"
        },
        "id": "aXJbmMjGeOgw",
        "outputId": "f6faac4c-f026-40a3-9f6e-626ac008cf4f"
      },
      "execution_count": 39,
      "outputs": [
        {
          "output_type": "execute_result",
          "data": {
            "text/plain": [
              "tensor([2996.,  127.,   13.,  218.,   29., 1998.,  218.,  226.,  143., 1708.,\n",
              "           0.,    0.,    0.,    0.,    0.,    0.,    0.,    0.,    0.,    0.,\n",
              "           0.,    0.,    0.,    0.,    0.,    0.,    0.,    0.,    0.,    0.,\n",
              "           0.,    0.,    0.,    0.,    0.,    0.,    0.,    0.,    0.,    0.,\n",
              "           0.,    0.,    0.,    0.,    0.,    0.,    0.,    0.,    0.,    0.,\n",
              "           0.,    0.,    0.,    0.], device='cuda:0')"
            ]
          },
          "metadata": {},
          "execution_count": 39
        }
      ]
    },
    {
      "cell_type": "code",
      "source": [
        "from pytorch_tabnet.utils import PredictDataset\n",
        "from torch.utils.data import DataLoader\n",
        "\n",
        "dataloader = DataLoader(\n",
        "    PredictDataset(X_test),\n",
        "    batch_size=1,\n",
        "    shuffle=True,\n",
        ")"
      ],
      "metadata": {
        "id": "QoqAgXo2cskj"
      },
      "execution_count": 117,
      "outputs": []
    },
    {
      "cell_type": "code",
      "source": [
        "loaded_clf.device"
      ],
      "metadata": {
        "colab": {
          "base_uri": "https://localhost:8080/"
        },
        "id": "qK6olIsnqC_S",
        "outputId": "aeb43843-93ad-40b8-a522-f53cc3d9e279"
      },
      "execution_count": 118,
      "outputs": [
        {
          "output_type": "execute_result",
          "data": {
            "text/plain": [
              "device(type='cuda')"
            ]
          },
          "metadata": {},
          "execution_count": 118
        }
      ]
    },
    {
      "cell_type": "code",
      "source": [
        "loaded_clf.network"
      ],
      "metadata": {
        "colab": {
          "base_uri": "https://localhost:8080/"
        },
        "id": "zWnmQN64u0Ns",
        "outputId": "81c6f3ae-8c9a-4dc4-e9be-40a99feb448a"
      },
      "execution_count": 119,
      "outputs": [
        {
          "output_type": "execute_result",
          "data": {
            "text/plain": [
              "TabNet(\n",
              "  (embedder): EmbeddingGenerator()\n",
              "  (tabnet): TabNetNoEmbeddings(\n",
              "    (initial_bn): BatchNorm1d(54, eps=1e-05, momentum=0.01, affine=True, track_running_stats=True)\n",
              "    (encoder): TabNetEncoder(\n",
              "      (initial_bn): BatchNorm1d(54, eps=1e-05, momentum=0.01, affine=True, track_running_stats=True)\n",
              "      (initial_splitter): FeatTransformer(\n",
              "        (shared): GLU_Block(\n",
              "          (shared_layers): ModuleList(\n",
              "            (0): Linear(in_features=54, out_features=256, bias=False)\n",
              "            (1): Linear(in_features=128, out_features=256, bias=False)\n",
              "          )\n",
              "          (glu_layers): ModuleList(\n",
              "            (0): GLU_Layer(\n",
              "              (fc): Linear(in_features=54, out_features=256, bias=False)\n",
              "              (bn): GBN(\n",
              "                (bn): BatchNorm1d(256, eps=1e-05, momentum=0.3, affine=True, track_running_stats=True)\n",
              "              )\n",
              "            )\n",
              "            (1): GLU_Layer(\n",
              "              (fc): Linear(in_features=128, out_features=256, bias=False)\n",
              "              (bn): GBN(\n",
              "                (bn): BatchNorm1d(256, eps=1e-05, momentum=0.3, affine=True, track_running_stats=True)\n",
              "              )\n",
              "            )\n",
              "          )\n",
              "        )\n",
              "        (specifics): GLU_Block(\n",
              "          (glu_layers): ModuleList(\n",
              "            (0-1): 2 x GLU_Layer(\n",
              "              (fc): Linear(in_features=128, out_features=256, bias=False)\n",
              "              (bn): GBN(\n",
              "                (bn): BatchNorm1d(256, eps=1e-05, momentum=0.3, affine=True, track_running_stats=True)\n",
              "              )\n",
              "            )\n",
              "          )\n",
              "        )\n",
              "      )\n",
              "      (feat_transformers): ModuleList(\n",
              "        (0-4): 5 x FeatTransformer(\n",
              "          (shared): GLU_Block(\n",
              "            (shared_layers): ModuleList(\n",
              "              (0): Linear(in_features=54, out_features=256, bias=False)\n",
              "              (1): Linear(in_features=128, out_features=256, bias=False)\n",
              "            )\n",
              "            (glu_layers): ModuleList(\n",
              "              (0): GLU_Layer(\n",
              "                (fc): Linear(in_features=54, out_features=256, bias=False)\n",
              "                (bn): GBN(\n",
              "                  (bn): BatchNorm1d(256, eps=1e-05, momentum=0.3, affine=True, track_running_stats=True)\n",
              "                )\n",
              "              )\n",
              "              (1): GLU_Layer(\n",
              "                (fc): Linear(in_features=128, out_features=256, bias=False)\n",
              "                (bn): GBN(\n",
              "                  (bn): BatchNorm1d(256, eps=1e-05, momentum=0.3, affine=True, track_running_stats=True)\n",
              "                )\n",
              "              )\n",
              "            )\n",
              "          )\n",
              "          (specifics): GLU_Block(\n",
              "            (glu_layers): ModuleList(\n",
              "              (0-1): 2 x GLU_Layer(\n",
              "                (fc): Linear(in_features=128, out_features=256, bias=False)\n",
              "                (bn): GBN(\n",
              "                  (bn): BatchNorm1d(256, eps=1e-05, momentum=0.3, affine=True, track_running_stats=True)\n",
              "                )\n",
              "              )\n",
              "            )\n",
              "          )\n",
              "        )\n",
              "      )\n",
              "      (att_transformers): ModuleList(\n",
              "        (0-4): 5 x AttentiveTransformer(\n",
              "          (fc): Linear(in_features=64, out_features=54, bias=False)\n",
              "          (bn): GBN(\n",
              "            (bn): BatchNorm1d(54, eps=1e-05, momentum=0.3, affine=True, track_running_stats=True)\n",
              "          )\n",
              "          (selector): Sparsemax()\n",
              "        )\n",
              "      )\n",
              "    )\n",
              "    (final_mapping): Linear(in_features=64, out_features=7, bias=False)\n",
              "  )\n",
              ")"
            ]
          },
          "metadata": {},
          "execution_count": 119
        }
      ]
    },
    {
      "cell_type": "code",
      "source": [
        "softmax = torch.nn.Softmax(dim=1).to(loaded_clf.device)"
      ],
      "metadata": {
        "id": "4IywNL4kqhXO"
      },
      "execution_count": 120,
      "outputs": []
    },
    {
      "cell_type": "code",
      "source": [
        "def classifier(data, target):\n",
        "    data.requires_grad = True\n",
        "    output, _ = loaded_clf.network(data)\n",
        "    predictions = softmax(output)\n",
        "    return predictions[0, target]\n",
        "\n",
        "all_stats, all_p1, all_p2 = [], [], []\n",
        "# 0 - Pos, 1 - Neg\n",
        "# 0 - ori, 1 - wtd\n",
        "# 0 - t1, 1 - t2\n",
        "\n",
        "cnt = 0\n",
        "for _, data in enumerate(dataloader):\n",
        "    with torch.set_grad_enabled(True):\n",
        "        data = data.to(loaded_clf.device).float()\n",
        "        output, _ = loaded_clf.network(data)\n",
        "        predictions = softmax(output)\n",
        "        t1, t2 = predictions.argsort(1, descending=True)[0, :2]\n",
        "        p1, p2 = predictions[0, [t1, t2]]\n",
        "        if p2 > 0.1:\n",
        "            cnt += 1\n",
        "            grad1, = torch.autograd.grad(classifier(data, t1), data, torch.tensor(1.))\n",
        "            loaded_clf.network.zero_grad(set_to_none=True)\n",
        "            relevance1 = data.detach() * grad1.detach()\n",
        "\n",
        "            grad2, = torch.autograd.grad(classifier(data, t2), data, torch.tensor(1.))\n",
        "            loaded_clf.network.zero_grad(set_to_none=True)\n",
        "            relevance2 = data.detach() * grad2.detach()\n",
        "\n",
        "            grads = [data.detach() * torch.autograd.grad(classifier(data, c), data, torch.tensor(1.))[0].detach() for c in range(output.shape[1])]\n",
        "            loaded_clf.network.zero_grad(set_to_none=True)\n",
        "            relevances = torch.cat(grads)\n",
        "            relevance1_w = relevance1 - predictions @ relevances\n",
        "            relevance2_w = relevance2 - predictions @ relevances\n",
        "\n",
        "            relevances_dict = {\n",
        "                'original': {\n",
        "                    't1': relevance1,\n",
        "                    't2': relevance2\n",
        "                },\n",
        "                'weighted': {\n",
        "                    't1': relevance1_w,\n",
        "                    't2': relevance2_w\n",
        "                }\n",
        "            }\n",
        "\n",
        "            all_p1.append(p1 / (p1 + p2))\n",
        "            all_p2.append(p2 / (p1 + p2))\n",
        "            stats = np.zeros((2, 2, 2))\n",
        "\n",
        "            for i, contrast in enumerate(['original', 'weighted']):\n",
        "                for j, target_str in enumerate(['t1', 't2']):\n",
        "                    mask = (relevances_dict[contrast][target_str].flatten() < 0).to(loaded_clf.device)\n",
        "                    data1 = data.detach()\n",
        "                    data1[:, mask] = median_vals[mask]\n",
        "                    output1, _ = loaded_clf.network(data1)\n",
        "                    predictions1 = softmax(output1)\n",
        "                    p11, p21 = predictions1[0, [t1, t2]]\n",
        "                    stats[0][i][j] = (p21 if j else p11) / (p11 + p21)\n",
        "\n",
        "                    mask = (relevances_dict[contrast][target_str].flatten() > 0).to(loaded_clf.device)\n",
        "                    data2 = data.detach()\n",
        "                    data2[:, mask] = median_vals[mask]\n",
        "                    output2, _ = loaded_clf.network(data2)\n",
        "                    predictions2 = softmax(output2)\n",
        "                    p12, p22 = predictions2[0, [t1, t2]]\n",
        "                    stats[1][i][j] = (p22 if j else p12) / (p12 + p22)\n",
        "            all_stats.append(stats)\n",
        "            if cnt >= 300:\n",
        "                break"
      ],
      "metadata": {
        "id": "qbO8a4bfjmtz"
      },
      "execution_count": 121,
      "outputs": []
    },
    {
      "cell_type": "code",
      "source": [
        "all_p1, all_p2"
      ],
      "metadata": {
        "colab": {
          "base_uri": "https://localhost:8080/"
        },
        "id": "4tCHORX8T5cZ",
        "outputId": "7cb6132c-287b-4d29-8069-0daf5f43e9bf"
      },
      "execution_count": 105,
      "outputs": [
        {
          "output_type": "execute_result",
          "data": {
            "text/plain": [
              "([tensor(0.8047, device='cuda:0', grad_fn=<DivBackward0>),\n",
              "  tensor(0.6623, device='cuda:0', grad_fn=<DivBackward0>),\n",
              "  tensor(0.5371, device='cuda:0', grad_fn=<DivBackward0>),\n",
              "  tensor(0.6190, device='cuda:0', grad_fn=<DivBackward0>),\n",
              "  tensor(0.7256, device='cuda:0', grad_fn=<DivBackward0>),\n",
              "  tensor(0.7477, device='cuda:0', grad_fn=<DivBackward0>),\n",
              "  tensor(0.5303, device='cuda:0', grad_fn=<DivBackward0>),\n",
              "  tensor(0.6230, device='cuda:0', grad_fn=<DivBackward0>),\n",
              "  tensor(0.6488, device='cuda:0', grad_fn=<DivBackward0>),\n",
              "  tensor(0.6382, device='cuda:0', grad_fn=<DivBackward0>)],\n",
              " [tensor(0.1953, device='cuda:0', grad_fn=<DivBackward0>),\n",
              "  tensor(0.3377, device='cuda:0', grad_fn=<DivBackward0>),\n",
              "  tensor(0.4629, device='cuda:0', grad_fn=<DivBackward0>),\n",
              "  tensor(0.3810, device='cuda:0', grad_fn=<DivBackward0>),\n",
              "  tensor(0.2744, device='cuda:0', grad_fn=<DivBackward0>),\n",
              "  tensor(0.2523, device='cuda:0', grad_fn=<DivBackward0>),\n",
              "  tensor(0.4697, device='cuda:0', grad_fn=<DivBackward0>),\n",
              "  tensor(0.3770, device='cuda:0', grad_fn=<DivBackward0>),\n",
              "  tensor(0.3512, device='cuda:0', grad_fn=<DivBackward0>),\n",
              "  tensor(0.3618, device='cuda:0', grad_fn=<DivBackward0>)])"
            ]
          },
          "metadata": {},
          "execution_count": 105
        }
      ]
    },
    {
      "cell_type": "code",
      "source": [
        "a = np.stack(all_stats)\n",
        "print(a.shape)\n",
        "mean, std = a.mean(0), a.std(0)"
      ],
      "metadata": {
        "colab": {
          "base_uri": "https://localhost:8080/"
        },
        "id": "lc2KCw_ikru0",
        "outputId": "0a354e2f-8538-4a52-cf0d-f0d5ad28409e"
      },
      "execution_count": 122,
      "outputs": [
        {
          "output_type": "stream",
          "name": "stdout",
          "text": [
            "(300, 2, 2, 2)\n"
          ]
        }
      ]
    },
    {
      "cell_type": "code",
      "source": [
        "a[:10]"
      ],
      "metadata": {
        "colab": {
          "base_uri": "https://localhost:8080/"
        },
        "id": "l8F3YpAVoBPP",
        "outputId": "4f7916c3-134a-4082-de09-a94df31445c0"
      },
      "execution_count": 123,
      "outputs": [
        {
          "output_type": "execute_result",
          "data": {
            "text/plain": [
              "array([[[[4.30005848e-01, 4.44960654e-01],\n",
              "         [5.55039287e-01, 4.44960654e-01]],\n",
              "\n",
              "        [[5.55039287e-01, 4.44960654e-01],\n",
              "         [5.55039287e-01, 4.44960654e-01]]],\n",
              "\n",
              "\n",
              "       [[[9.53274608e-01, 5.55039287e-01],\n",
              "         [4.44960654e-01, 5.55039287e-01]],\n",
              "\n",
              "        [[4.44960654e-01, 5.55039287e-01],\n",
              "         [4.44960654e-01, 5.55039287e-01]]],\n",
              "\n",
              "\n",
              "       [[[9.33134556e-01, 4.44960654e-01],\n",
              "         [5.55039287e-01, 4.44960654e-01]],\n",
              "\n",
              "        [[5.55039287e-01, 4.44960654e-01],\n",
              "         [5.55039287e-01, 4.44960654e-01]]],\n",
              "\n",
              "\n",
              "       [[[4.73886460e-01, 7.52662420e-01],\n",
              "         [2.47337595e-01, 7.52662420e-01]],\n",
              "\n",
              "        [[2.47337595e-01, 7.52662420e-01],\n",
              "         [2.47337595e-01, 7.52662420e-01]]],\n",
              "\n",
              "\n",
              "       [[[5.69327593e-01, 4.44960654e-01],\n",
              "         [5.55039287e-01, 4.44960654e-01]],\n",
              "\n",
              "        [[5.55039287e-01, 4.44960654e-01],\n",
              "         [5.55039287e-01, 4.44960654e-01]]],\n",
              "\n",
              "\n",
              "       [[[2.13038832e-01, 7.23165087e-03],\n",
              "         [9.92768347e-01, 7.23165087e-03]],\n",
              "\n",
              "        [[9.92768347e-01, 7.23165087e-03],\n",
              "         [9.92768347e-01, 7.23165087e-03]]],\n",
              "\n",
              "\n",
              "       [[[2.82930559e-03, 5.55039287e-01],\n",
              "         [4.44960654e-01, 5.55039287e-01]],\n",
              "\n",
              "        [[4.44960654e-01, 5.55039287e-01],\n",
              "         [4.44960654e-01, 5.55039287e-01]]],\n",
              "\n",
              "\n",
              "       [[[2.63450276e-02, 9.99329031e-01],\n",
              "         [6.71005982e-04, 9.99329031e-01]],\n",
              "\n",
              "        [[6.71005982e-04, 9.99329031e-01],\n",
              "         [6.71005982e-04, 9.99329031e-01]]],\n",
              "\n",
              "\n",
              "       [[[2.45422751e-01, 3.14670086e-01],\n",
              "         [6.85329914e-01, 3.14670086e-01]],\n",
              "\n",
              "        [[6.85329914e-01, 3.14670086e-01],\n",
              "         [6.85329914e-01, 3.14670086e-01]]],\n",
              "\n",
              "\n",
              "       [[[7.60131478e-01, 5.55039287e-01],\n",
              "         [4.44960654e-01, 5.55039287e-01]],\n",
              "\n",
              "        [[4.44960654e-01, 5.55039287e-01],\n",
              "         [4.44960654e-01, 5.55039287e-01]]]])"
            ]
          },
          "metadata": {},
          "execution_count": 123
        }
      ]
    },
    {
      "cell_type": "code",
      "source": [
        "sum(all_p1) / cnt, sum(all_p2) / cnt"
      ],
      "metadata": {
        "colab": {
          "base_uri": "https://localhost:8080/"
        },
        "id": "UK2jSD15k5Wh",
        "outputId": "8bd654af-86bb-407b-ef75-81d9d3dc1838"
      },
      "execution_count": 124,
      "outputs": [
        {
          "output_type": "execute_result",
          "data": {
            "text/plain": [
              "(tensor(0.7368, device='cuda:0', grad_fn=<DivBackward0>),\n",
              " tensor(0.2632, device='cuda:0', grad_fn=<DivBackward0>))"
            ]
          },
          "metadata": {},
          "execution_count": 124
        }
      ]
    },
    {
      "cell_type": "code",
      "source": [
        "result = np.zeros((2, 4))\n",
        "\n",
        "for i1 in range(2):\n",
        "    for i2 in range(2):\n",
        "        for i3 in range(2):\n",
        "            result[i3][2 * i1 + i2] = mean[i1][i2][i3]\n",
        "\n",
        "print(*result.tolist(), sep='\\n')"
      ],
      "metadata": {
        "colab": {
          "base_uri": "https://localhost:8080/"
        },
        "id": "oCfUJyyDk5sV",
        "outputId": "52552f66-05d7-4c39-8a04-02d9fe1f3b25"
      },
      "execution_count": 125,
      "outputs": [
        {
          "output_type": "stream",
          "name": "stdout",
          "text": [
            "[0.5647704126092382, 0.5151011993075372, 0.5151011993075372, 0.5151011993075372]\n",
            "[0.48489876495392914, 0.48489876495392914, 0.48489876495392914, 0.48489876495392914]\n"
          ]
        }
      ]
    },
    {
      "cell_type": "markdown",
      "metadata": {
        "id": "HExg9RmEVhKO"
      },
      "source": [
        "# Global explainability : feat importance summing to 1"
      ]
    },
    {
      "cell_type": "code",
      "execution_count": null,
      "metadata": {
        "colab": {
          "base_uri": "https://localhost:8080/"
        },
        "id": "kz01HUtfVhKO",
        "outputId": "5f4bd7e3-a853-4dff-df32-214dc69fbecd"
      },
      "outputs": [
        {
          "output_type": "execute_result",
          "data": {
            "text/plain": [
              "array([1.58247662e-01, 5.71626673e-04, 9.29850777e-03, 5.07113137e-02,\n",
              "       7.62325992e-03, 1.06987014e-01, 1.15743237e-02, 3.18730107e-02,\n",
              "       6.96937310e-03, 8.35709639e-03, 4.90208937e-02, 3.14086266e-04,\n",
              "       9.01340430e-03, 2.38246169e-02, 3.95427641e-04, 5.54882820e-02,\n",
              "       1.12409596e-02, 1.27723175e-02, 6.84919206e-03, 3.50048954e-03,\n",
              "       3.61859762e-02, 6.51597059e-03, 1.86473636e-03, 6.41088076e-06,\n",
              "       1.40285334e-02, 8.26091070e-02, 3.95778852e-02, 1.09173924e-02,\n",
              "       1.34896714e-03, 2.96117212e-02, 6.22127663e-07, 7.14214126e-03,\n",
              "       9.28666417e-03, 7.99605141e-04, 6.81673364e-03, 3.18115593e-02,\n",
              "       1.23340882e-04, 7.97161799e-03, 9.67607270e-04, 3.66789348e-03,\n",
              "       2.70878094e-03, 1.80842013e-02, 1.69281652e-02, 9.58653523e-03,\n",
              "       6.89841920e-03, 1.97940973e-02, 6.74800837e-03, 8.98283106e-03,\n",
              "       5.30832858e-03, 4.21483625e-03, 2.12773169e-03, 2.50390367e-02,\n",
              "       1.24629806e-02, 5.22870434e-03])"
            ]
          },
          "metadata": {},
          "execution_count": 23
        }
      ],
      "source": [
        "clf.feature_importances_"
      ]
    },
    {
      "cell_type": "markdown",
      "metadata": {
        "id": "hHoo2r5FVhKO"
      },
      "source": [
        "# Local explainability and masks"
      ]
    },
    {
      "cell_type": "code",
      "execution_count": null,
      "metadata": {
        "id": "zYZZ8-_EVhKO"
      },
      "outputs": [],
      "source": [
        "explain_matrix, masks = clf.explain(X_test)"
      ]
    },
    {
      "cell_type": "code",
      "execution_count": null,
      "metadata": {
        "colab": {
          "base_uri": "https://localhost:8080/",
          "height": 300
        },
        "id": "8h4hJCCAVhKO",
        "outputId": "6b8a605b-3d9b-4322-90a3-8729df7da96a"
      },
      "outputs": [
        {
          "output_type": "display_data",
          "data": {
            "text/plain": [
              "<Figure size 2000x2000 with 5 Axes>"
            ],
            "image/png": "[encoded data removed]"
          },
          "metadata": {}
        }
      ],
      "source": [
        "fig, axs = plt.subplots(1, 5, figsize=(20,20))\n",
        "\n",
        "for i in range(5):\n",
        "    axs[i].imshow(masks[i][:50])\n",
        "    axs[i].set_title(f\"mask {i}\")"
      ]
    },
    {
      "cell_type": "markdown",
      "metadata": {
        "id": "8tc6XiSjVhKP"
      },
      "source": [
        "# XGB"
      ]
    },
    {
      "cell_type": "code",
      "execution_count": null,
      "metadata": {
        "id": "3PSGbx6hVhKP"
      },
      "outputs": [],
      "source": [
        "n_estimators = 1000 if not os.getenv(\"CI\", False) else 20"
      ]
    },
    {
      "cell_type": "code",
      "execution_count": null,
      "metadata": {
        "scrolled": true,
        "id": "ksvqkvfhVhKP"
      },
      "outputs": [],
      "source": [
        "from xgboost import XGBClassifier\n",
        "\n",
        "clf_xgb = XGBClassifier(max_depth=8,\n",
        "    learning_rate=0.1,\n",
        "    n_estimators=n_estimators,\n",
        "    verbosity=0,\n",
        "    silent=None,\n",
        "    objective=\"multi:softmax\",\n",
        "    booster='gbtree',\n",
        "    n_jobs=-1,\n",
        "    nthread=None,\n",
        "    gamma=0,\n",
        "    min_child_weight=1,\n",
        "    max_delta_step=0,\n",
        "    subsample=0.7,\n",
        "    colsample_bytree=1,\n",
        "    colsample_bylevel=1,\n",
        "    colsample_bynode=1,\n",
        "    reg_alpha=0,\n",
        "    reg_lambda=1,\n",
        "    scale_pos_weight=1,\n",
        "    base_score=0.5,\n",
        "    random_state=0,\n",
        "    seed=None,)\n",
        "\n",
        "clf_xgb.fit(X_train, y_train,\n",
        "            eval_set=[(X_valid, y_valid)],\n",
        "            early_stopping_rounds=40,\n",
        "            verbose=10)"
      ]
    },
    {
      "cell_type": "code",
      "execution_count": null,
      "metadata": {
        "id": "ISqOJJVoVhKP"
      },
      "outputs": [],
      "source": [
        "preds_valid = np.array(clf_xgb.predict_proba(X_valid, ))\n",
        "valid_acc = accuracy_score(y_pred=np.argmax(preds_valid, axis=1) + 1, y_true=y_valid)\n",
        "print(valid_acc)\n",
        "\n",
        "preds_test = np.array(clf_xgb.predict_proba(X_test))\n",
        "test_acc = accuracy_score(y_pred=np.argmax(preds_test, axis=1) + 1, y_true=y_test)\n",
        "print(test_acc)"
      ]
    },
    {
      "cell_type": "code",
      "execution_count": null,
      "metadata": {
        "id": "AgxLeSx4VhKP"
      },
      "outputs": [],
      "source": []
    }
  ],
  "metadata": {
    "kernelspec": {
      "display_name": "Python 3",
      "name": "python3"
    },
    "language_info": {
      "codemirror_mode": {
        "name": "ipython",
        "version": 3
      },
      "file_extension": ".py",
      "mimetype": "text/x-python",
      "name": "python",
      "nbconvert_exporter": "python",
      "pygments_lexer": "ipython3",
      "version": "3.7.13"
    },
    "toc": {
      "base_numbering": 1,
      "nav_menu": {},
      "number_sections": true,
      "sideBar": true,
      "skip_h1_title": false,
      "title_cell": "Table of Contents",
      "title_sidebar": "Contents",
      "toc_cell": false,
      "toc_position": {},
      "toc_section_display": true,
      "toc_window_display": false
    },
    "colab": {
      "provenance": [],
      "gpuType": "T4"
    },
    "accelerator": "GPU"
  },
  "nbformat": 4,
  "nbformat_minor": 0
}